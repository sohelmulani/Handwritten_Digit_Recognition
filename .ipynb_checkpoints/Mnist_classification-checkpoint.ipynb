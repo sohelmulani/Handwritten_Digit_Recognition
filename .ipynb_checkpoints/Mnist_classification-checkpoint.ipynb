{
 "cells": [
  {
   "cell_type": "markdown",
   "metadata": {},
   "source": [
    "# Importing required libraries"
   ]
  },
  {
   "cell_type": "code",
   "execution_count": 1,
   "metadata": {},
   "outputs": [
    {
     "name": "stderr",
     "output_type": "stream",
     "text": [
      "Using TensorFlow backend.\n"
     ]
    }
   ],
   "source": [
    "import numpy as np\n",
    "import matplotlib.pyplot as plt\n",
    "from keras.preprocessing.image import ImageDataGenerator\n",
    "from keras.models import Sequential\n",
    "from keras.layers import Convolution2D,MaxPooling2D,Flatten,Dense,Dropout\n",
    "import image\n",
    "from keras.datasets import mnist\n",
    "from keras.utils import np_utils"
   ]
  },
  {
   "cell_type": "raw",
   "metadata": {},
   "source": [
    "ImageDataGenerator is a library which is helpfull for image preprocessing so that we can fit data in an effective way to our model.\n",
    "Sequential is a library which is helpfull to initialize CNN.\n",
    "Convolution2D is required to add convolutional layers to the model.\n",
    "MaxPooling2D id helpfull for adding pooling layer to model.\n",
    "Flatten if helpfull to flattening the data.\n",
    "Dense is helpfull to add multiple layers to the model."
   ]
  },
  {
   "cell_type": "markdown",
   "metadata": {},
   "source": [
    "# Loading and deviding dataset into training and testing sets"
   ]
  },
  {
   "cell_type": "code",
   "execution_count": 2,
   "metadata": {},
   "outputs": [
    {
     "data": {
      "text/plain": [
       "(60000, 28, 28)"
      ]
     },
     "execution_count": 2,
     "metadata": {},
     "output_type": "execute_result"
    }
   ],
   "source": [
    "(x_train,y_train),(x_test,y_test)=mnist.load_data()\n",
    "x_train.shape"
   ]
  },
  {
   "cell_type": "raw",
   "metadata": {},
   "source": [
    "This partcular dataset consists of 60,000 training images and 10,000 testing images.\n",
    "x contains the image data\n",
    "y contains the their labels"
   ]
  },
  {
   "cell_type": "markdown",
   "metadata": {},
   "source": [
    "# Visualizing the data"
   ]
  },
  {
   "cell_type": "code",
   "execution_count": 3,
   "metadata": {},
   "outputs": [
    {
     "data": {
      "image/png": "[encoded data removed]",
      "text/plain": [
       "<Figure size 432x288 with 4 Axes>"
      ]
     },
     "metadata": {
      "needs_background": "light"
     },
     "output_type": "display_data"
    }
   ],
   "source": [
    "plt.subplot(221)\n",
    "plt.imshow(x_train[0], cmap=plt.get_cmap('gray'))\n",
    "plt.subplot(222)\n",
    "plt.imshow(x_train[1], cmap=plt.get_cmap('gray'))\n",
    "plt.subplot(223)\n",
    "plt.imshow(x_train[2], cmap=plt.get_cmap('gray'))\n",
    "plt.subplot(224)\n",
    "plt.imshow(x_train[3], cmap=plt.get_cmap('gray'))\n",
    "plt.show()"
   ]
  },
  {
   "cell_type": "markdown",
   "metadata": {},
   "source": [
    "# Reshaping the image data so that we can fit it to model to have a better accuracy and acheiving normalize the data into range of 0 and 1"
   ]
  },
  {
   "cell_type": "code",
   "execution_count": 4,
   "metadata": {},
   "outputs": [
    {
     "name": "stdout",
     "output_type": "stream",
     "text": [
      "(60000, 28, 28, 1)\n",
      "(10000, 28, 28, 1)\n"
     ]
    }
   ],
   "source": [
    "x_train=x_train.reshape(x_train.shape[0],28,28,1)\n",
    "x_train=x_train.astype('float32')\n",
    "x_train/=255\n",
    "\n",
    "x_test=x_test.reshape(x_test.shape[0],28,28,1)\n",
    "x_test=x_test.astype('float32')\n",
    "x_test/=255\n",
    "\n",
    "print(x_train.shape)\n",
    "print(x_test.shape)"
   ]
  },
  {
   "cell_type": "markdown",
   "metadata": {},
   "source": [
    "# Converting  categorical datainto multiple colomns with 0 and 1 depending on the value.\n",
    "As our target data consist of different 10 categories from zero to nine we need to convert that data into different colomns with value 0 and 1 depending on the presence of values in that colomn.\n",
    "We can do  it by using np_utils package from keras.utils package\n"
   ]
  },
  {
   "cell_type": "code",
   "execution_count": 5,
   "metadata": {},
   "outputs": [
    {
     "name": "stdout",
     "output_type": "stream",
     "text": [
      "[0. 0. 0. 0. 0. 1. 0. 0. 0. 0.]\n"
     ]
    }
   ],
   "source": [
    "from  keras.utils import np_utils\n",
    "y_train = np_utils.to_categorical(y_train)\n",
    "y_test= np_utils.to_categorical(y_test)\n",
    "print(y_train[0])"
   ]
  },
  {
   "cell_type": "markdown",
   "metadata": {},
   "source": [
    "# Creating CNN model"
   ]
  },
  {
   "cell_type": "code",
   "execution_count": 6,
   "metadata": {},
   "outputs": [],
   "source": [
    "def build_model():\n",
    "    classifier=Sequential()\n",
    "    \n",
    "    classifier.add(Convolution2D(32,5,5,input_shape=(28,28,1),activation='relu'))\n",
    "    classifier.add(MaxPooling2D(pool_size=(2,2)))\n",
    "    \n",
    "    classifier.add(Convolution2D(32,3,3,activation='relu'))\n",
    "    classifier.add(MaxPooling2D(pool_size=(2,2)))\n",
    "    \n",
    "    classifier.add(Dropout(0.2))\n",
    "    \n",
    "    classifier.add(Flatten())\n",
    "    \n",
    "    classifier.add(Dense(output_dim=128,activation='relu'))\n",
    "    classifier.add(Dense(output_dim=50,activation='relu'))\n",
    "    \n",
    "    classifier.add(Dense(output_dim=10,activation='softmax'))\n",
    "    \n",
    "    classifier.compile(optimizer='adam',loss='categorical_crossentropy',metrics=['accuracy'])\n",
    "    \n",
    "    return classifier\n",
    "    \n",
    "    "
   ]
  },
  {
   "cell_type": "code",
   "execution_count": 7,
   "metadata": {},
   "outputs": [
    {
     "name": "stdout",
     "output_type": "stream",
     "text": [
      "WARNING:tensorflow:From /home/sohel/anaconda3/envs/py36/lib/python3.6/site-packages/tensorflow/python/framework/op_def_library.py:263: colocate_with (from tensorflow.python.framework.ops) is deprecated and will be removed in a future version.\n",
      "Instructions for updating:\n",
      "Colocations handled automatically by placer.\n",
      "WARNING:tensorflow:From /home/sohel/anaconda3/envs/py36/lib/python3.6/site-packages/keras/backend/tensorflow_backend.py:3445: calling dropout (from tensorflow.python.ops.nn_ops) with keep_prob is deprecated and will be removed in a future version.\n",
      "Instructions for updating:\n",
      "Please use `rate` instead of `keep_prob`. Rate should be set to `rate = 1 - keep_prob`.\n"
     ]
    },
    {
     "name": "stderr",
     "output_type": "stream",
     "text": [
      "/home/sohel/anaconda3/envs/py36/lib/python3.6/site-packages/ipykernel_launcher.py:4: UserWarning: Update your `Conv2D` call to the Keras 2 API: `Conv2D(32, (5, 5), input_shape=(28, 28, 1..., activation=\"relu\")`\n",
      "  after removing the cwd from sys.path.\n",
      "/home/sohel/anaconda3/envs/py36/lib/python3.6/site-packages/ipykernel_launcher.py:7: UserWarning: Update your `Conv2D` call to the Keras 2 API: `Conv2D(32, (3, 3), activation=\"relu\")`\n",
      "  import sys\n",
      "/home/sohel/anaconda3/envs/py36/lib/python3.6/site-packages/ipykernel_launcher.py:14: UserWarning: Update your `Dense` call to the Keras 2 API: `Dense(activation=\"relu\", units=128)`\n",
      "  \n",
      "/home/sohel/anaconda3/envs/py36/lib/python3.6/site-packages/ipykernel_launcher.py:15: UserWarning: Update your `Dense` call to the Keras 2 API: `Dense(activation=\"relu\", units=50)`\n",
      "  from ipykernel import kernelapp as app\n",
      "/home/sohel/anaconda3/envs/py36/lib/python3.6/site-packages/ipykernel_launcher.py:17: UserWarning: Update your `Dense` call to the Keras 2 API: `Dense(activation=\"softmax\", units=10)`\n"
     ]
    }
   ],
   "source": [
    "classifier=build_model()"
   ]
  },
  {
   "cell_type": "markdown",
   "metadata": {},
   "source": [
    "# Summarysing our model"
   ]
  },
  {
   "cell_type": "code",
   "execution_count": 8,
   "metadata": {},
   "outputs": [
    {
     "name": "stdout",
     "output_type": "stream",
     "text": [
      "_________________________________________________________________\n",
      "Layer (type)                 Output Shape              Param #   \n",
      "=================================================================\n",
      "conv2d_1 (Conv2D)            (None, 24, 24, 32)        832       \n",
      "_________________________________________________________________\n",
      "max_pooling2d_1 (MaxPooling2 (None, 12, 12, 32)        0         \n",
      "_________________________________________________________________\n",
      "conv2d_2 (Conv2D)            (None, 10, 10, 32)        9248      \n",
      "_________________________________________________________________\n",
      "max_pooling2d_2 (MaxPooling2 (None, 5, 5, 32)          0         \n",
      "_________________________________________________________________\n",
      "dropout_1 (Dropout)          (None, 5, 5, 32)          0         \n",
      "_________________________________________________________________\n",
      "flatten_1 (Flatten)          (None, 800)               0         \n",
      "_________________________________________________________________\n",
      "dense_1 (Dense)              (None, 128)               102528    \n",
      "_________________________________________________________________\n",
      "dense_2 (Dense)              (None, 50)                6450      \n",
      "_________________________________________________________________\n",
      "dense_3 (Dense)              (None, 10)                510       \n",
      "=================================================================\n",
      "Total params: 119,568\n",
      "Trainable params: 119,568\n",
      "Non-trainable params: 0\n",
      "_________________________________________________________________\n"
     ]
    }
   ],
   "source": [
    "classifier.summary()"
   ]
  },
  {
   "cell_type": "markdown",
   "metadata": {},
   "source": [
    "# Fitting training data to our model"
   ]
  },
  {
   "cell_type": "code",
   "execution_count": 9,
   "metadata": {
    "scrolled": true
   },
   "outputs": [
    {
     "name": "stdout",
     "output_type": "stream",
     "text": [
      "WARNING:tensorflow:From /home/sohel/anaconda3/envs/py36/lib/python3.6/site-packages/tensorflow/python/ops/math_ops.py:3066: to_int32 (from tensorflow.python.ops.math_ops) is deprecated and will be removed in a future version.\n",
      "Instructions for updating:\n",
      "Use tf.cast instead.\n",
      "Train on 60000 samples, validate on 10000 samples\n",
      "Epoch 1/5\n",
      " - 48s - loss: 0.3356 - acc: 0.8968 - val_loss: 0.0776 - val_acc: 0.9770\n",
      "Epoch 2/5\n",
      " - 47s - loss: 0.0807 - acc: 0.9755 - val_loss: 0.0495 - val_acc: 0.9841\n",
      "Epoch 3/5\n",
      " - 46s - loss: 0.0579 - acc: 0.9819 - val_loss: 0.0403 - val_acc: 0.9867\n",
      "Epoch 4/5\n",
      " - 46s - loss: 0.0446 - acc: 0.9861 - val_loss: 0.0326 - val_acc: 0.9898\n",
      "Epoch 5/5\n",
      " - 46s - loss: 0.0369 - acc: 0.9881 - val_loss: 0.0309 - val_acc: 0.9899\n"
     ]
    },
    {
     "data": {
      "text/plain": [
       "<keras.callbacks.History at 0x7f5193760e48>"
      ]
     },
     "execution_count": 9,
     "metadata": {},
     "output_type": "execute_result"
    }
   ],
   "source": [
    "classifier.fit(x_train,y_train,\n",
    "                validation_data=(x_test,y_test),\n",
    "                epochs=5,   \n",
    "                batch_size=200,\n",
    "                verbose=2)"
   ]
  },
  {
   "cell_type": "code",
   "execution_count": 10,
   "metadata": {},
   "outputs": [
    {
     "name": "stdout",
     "output_type": "stream",
     "text": [
      "10000/10000 [==============================] - 3s 334us/step\n"
     ]
    }
   ],
   "source": [
    "score=classifier.evaluate(x_test,y_test)"
   ]
  },
  {
   "cell_type": "code",
   "execution_count": 11,
   "metadata": {},
   "outputs": [
    {
     "name": "stdout",
     "output_type": "stream",
     "text": [
      "98.99\n"
     ]
    }
   ],
   "source": [
    "print(score[1]*100)"
   ]
  },
  {
   "cell_type": "code",
   "execution_count": 12,
   "metadata": {},
   "outputs": [],
   "source": [
    "def rgb2gray(rgb):\n",
    "\n",
    "    r, g, b = rgb[:,:,0], rgb[:,:,1], rgb[:,:,2]\n",
    "    gray = 0.2989 * r + 0.5870 * g + 0.1140 * b\n",
    "\n",
    "    return gray"
   ]
  },
  {
   "cell_type": "code",
   "execution_count": 19,
   "metadata": {},
   "outputs": [],
   "source": [
    "from keras.preprocessing import image\n",
    "img=image.load_img(\"/home/sohel/Handwitten_data_recognization/samples/img_3.jpg\",target_size=(28,28,1))\n",
    "img=image.img_to_array(img)\n",
    "img=rgb2gray(img)\n",
    "img=img.reshape(1,28,28,1).astype(\"float32\")\n",
    "img/=255\n",
    "prediction=classifier.predict_classes(img.reshape(1,28,28,1))"
   ]
  },
  {
   "cell_type": "code",
   "execution_count": 22,
   "metadata": {},
   "outputs": [
    {
     "name": "stdout",
     "output_type": "stream",
     "text": [
      "9\n"
     ]
    }
   ],
   "source": [
    "from subprocess import call\n",
    " \n",
    "if prediction[0]==0:\n",
    "    call([\"espeak\",\"its zero\"])\n",
    "if prediction[0]==1:\n",
    "    print(\"1\")\n",
    "    call([\"espeak\",\"its one\"])\n",
    "if prediction[0]==2:\n",
    "    print(\"2\")\n",
    "    call([\"espeak\",\"its two\"])\n",
    "if prediction[0]==3:\n",
    "    print(\"3\")    \n",
    "    call([\"espeak\",\"its three\"])\n",
    "if prediction[0]==4:\n",
    "    print(\"4\")\n",
    "    call([\"espeak\",\"its four\"])\n",
    "if prediction[0]==5:\n",
    "    print(\"5\")\n",
    "    call([\"espeak\",\"its five\"])\n",
    "if prediction[0]==6:\n",
    "    print(\"6\")\n",
    "    call([\"espeak\",\"its six\"])\n",
    "if prediction[0]==7:\n",
    "    print(\"7\")\n",
    "    call([\"espeak\",\"its seven\"])\n",
    "if prediction[0]==8:\n",
    "    print(\"8\")\n",
    "    call([\"espeak\",\"its eight\"])\n",
    "if prediction[0]==9:\n",
    "    print(\"9\")    \n",
    "    call([\"espeak\",\"its nine\"])"
   ]
  }
 ],
 "metadata": {
  "kernelspec": {
   "display_name": "Python 3",
   "language": "python",
   "name": "python3"
  },
  "language_info": {
   "codemirror_mode": {
    "name": "ipython",
    "version": 3
   },
   "file_extension": ".py",
   "mimetype": "text/x-python",
   "name": "python",
   "nbconvert_exporter": "python",
   "pygments_lexer": "ipython3",
   "version": "3.6.8"
  }
 },
 "nbformat": 4,
 "nbformat_minor": 2
}
